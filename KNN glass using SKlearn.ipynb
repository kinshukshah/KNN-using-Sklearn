{
 "cells": [
  {
   "cell_type": "code",
   "execution_count": 1,
   "metadata": {},
   "outputs": [],
   "source": [
    "import pandas as pd\n",
    "import math\n",
    "import numpy as np\n",
    "from sklearn.metrics import accuracy_score\n",
    "from sklearn.neighbors import KNeighborsClassifier\n",
    "import matplotlib.pyplot as plt\n",
    "    "
   ]
  },
  {
   "cell_type": "code",
   "execution_count": 2,
   "metadata": {},
   "outputs": [],
   "source": [
    "df=pd.read_csv(\"https://archive.ics.uci.edu/ml/machine-learning-databases/glass/glass.data\",names=['Id','RI','Na','Mg','Al','Si','K','Ca','Ba','Fe','Class'])"
   ]
  },
  {
   "cell_type": "code",
   "execution_count": 3,
   "metadata": {},
   "outputs": [],
   "source": [
    "del df['Id']"
   ]
  },
  {
   "cell_type": "code",
   "execution_count": 4,
   "metadata": {},
   "outputs": [
    {
     "name": "stdout",
     "output_type": "stream",
     "text": [
      "[[ 0.87286765  0.28495326  1.25463857 ... -0.14576634 -0.35287683\n",
      "  -0.5864509 ]\n",
      " [-0.24933347  0.59181718  0.63616803 ... -0.79373376 -0.35287683\n",
      "  -0.5864509 ]\n",
      " [-0.72131806  0.14993314  0.60142249 ... -0.82894938 -0.35287683\n",
      "  -0.5864509 ]\n",
      " ...\n",
      " [ 0.75404635  1.16872135 -1.86551055 ... -0.36410319  2.95320036\n",
      "  -0.5864509 ]\n",
      " [-0.61239854  1.19327046 -1.86551055 ... -0.33593069  2.81208731\n",
      "  -0.5864509 ]\n",
      " [-0.41436305  1.00915211 -1.86551055 ... -0.23732695  3.01367739\n",
      "  -0.5864509 ]]\n"
     ]
    }
   ],
   "source": [
    "from sklearn.preprocessing import StandardScaler\n",
    "scaler = StandardScaler()\n",
    "scaler.fit(df.iloc[:,0:9])\n",
    "data1h = scaler.transform(df.iloc[:,0:9])\n",
    "print(data1h)"
   ]
  },
  {
   "cell_type": "code",
   "execution_count": 5,
   "metadata": {},
   "outputs": [
    {
     "name": "stdout",
     "output_type": "stream",
     "text": [
      "           RI        Na        Mg        Al        Si         K        Ca  \\\n",
      "0    0.872868  0.284953  1.254639 -0.692442 -1.127082 -0.671705 -0.145766   \n",
      "1   -0.249333  0.591817  0.636168 -0.170460  0.102319 -0.026213 -0.793734   \n",
      "2   -0.721318  0.149933  0.601422  0.190912  0.438787 -0.164533 -0.828949   \n",
      "3   -0.232831 -0.242853  0.698710 -0.310994 -0.052974  0.112107 -0.519052   \n",
      "4   -0.312045 -0.169205  0.650066 -0.411375  0.555256  0.081369 -0.624699   \n",
      "5   -0.793931 -0.758384  0.643117  0.351521  0.412905  0.219689 -0.624699   \n",
      "6   -0.308744 -0.132382  0.636168 -0.612137  0.568197  0.127475 -0.554268   \n",
      "7   -0.265836 -0.316500  0.643117 -0.792823  0.762313  0.112107 -0.504966   \n",
      "8    0.268859  0.775936  0.622270 -0.150384 -0.738850  0.096738 -0.462707   \n",
      "9   -0.269137 -0.500618  0.636168 -0.170460  0.438787  0.112107 -0.392276   \n",
      "10  -0.876446 -0.844306  0.538881  0.231064  0.710549  0.265795 -0.610613   \n",
      "11  -0.242732 -0.746110  0.677863 -0.351146  0.464669  0.158213 -0.279586   \n",
      "12  -0.817035 -0.647913  0.518033 -0.090155  0.814078  0.296533 -0.638785   \n",
      "13  -0.292241 -0.672462  0.608372 -0.351146  0.723490  0.066000 -0.406362   \n",
      "14  -0.242732 -0.979326  0.629219 -0.270841  0.827019  0.127475 -0.321844   \n",
      "15  -0.249333 -0.733835  0.594473 -0.431451  0.762313  0.127475 -0.399319   \n",
      "16  -0.173420 -0.893404  0.684812 -0.571985  0.594079  0.173582 -0.180982   \n",
      "17   1.186424  1.168721  0.809896 -1.114043 -1.670607 -0.533386  0.135959   \n",
      "18   0.245755  0.604092  0.726506 -0.531832 -0.687086 -0.671705 -0.047163   \n",
      "19  -0.335149 -0.476069  0.594473  0.492055  0.102319  0.066000 -0.364103   \n",
      "20  -0.285640 -0.721560  0.601422  0.090531  0.128201  0.066000 -0.307758   \n",
      "21   0.427288  1.671978  0.740405 -2.318616 -0.816496 -0.717812  0.030312   \n",
      "22  -0.331848 -0.770659  0.650066 -0.310994  0.179965  0.142844 -0.180982   \n",
      "23  -0.282339 -0.733835  0.615321 -0.190536  0.477610  0.188951 -0.258456   \n",
      "24  -0.384658 -0.034185  0.566677 -0.592061  0.257612  0.004524 -0.371146   \n",
      "25  -0.239432 -0.525167  0.594473 -0.471604  0.451728  0.235057 -0.300715   \n",
      "26  -0.143715 -0.242853  0.552779 -0.070079 -0.014151  0.142844 -0.371146   \n",
      "27  -0.381357 -0.660188  0.552779 -0.230689  0.503492  0.096738 -0.371146   \n",
      "28  -0.226229 -1.040699  0.580575 -0.029927  0.645844  0.112107 -0.293672   \n",
      "29  -0.173420 -0.402422  0.559728 -0.331070  0.270553  0.158213 -0.328888   \n",
      "..        ...       ...       ...       ...       ...       ...       ...   \n",
      "184 -2.381516  4.875637 -1.865511 -2.218235  3.570524 -0.763919 -1.624822   \n",
      "185 -2.328706  0.346326  0.358204  0.732970  0.205848  1.941001 -2.484084   \n",
      "186  0.004812  1.119623  0.399898  1.556095 -1.812958  1.479935 -2.230531   \n",
      "187  1.579194  0.039462  0.455491 -0.431451 -0.350618  0.158213 -0.089421   \n",
      "188  1.354754  1.782449 -0.336707  1.234875 -3.094124  0.404115  0.565589   \n",
      "189  1.744224  2.923983 -0.593824 -0.270841 -2.874126 -0.287484 -0.244370   \n",
      "190 -0.737821  0.579543 -0.628569  0.692817  0.581138 -0.763919 -0.202111   \n",
      "191 -0.774128  1.770175 -1.865511  1.877314  0.814078 -0.763919 -0.138723   \n",
      "192 -0.704815  0.972328 -1.865511  2.700439  1.047017 -0.702443  0.058484   \n",
      "193 -0.387958  1.647429 -1.865511  1.114418  0.477610 -0.763919 -0.300715   \n",
      "194 -0.506780  1.414212 -1.865511  1.074265  0.827019 -0.763919 -0.307758   \n",
      "195 -0.962261  0.898681 -1.865511  2.479601  0.956429 -0.640968  0.079614   \n",
      "196 -0.925955  0.567268 -1.865511  2.198534  0.749372 -0.548755  0.319080   \n",
      "197 -0.361554  1.586056 -1.865511  1.797009  0.814078 -0.763919 -0.004904   \n",
      "198 -1.008470  1.193270 -1.865511  2.439448  0.581138 -0.702443  0.086657   \n",
      "199 -0.751023  1.966568 -1.865511  2.138305  0.516433 -0.687074 -0.089421   \n",
      "200 -1.084383  2.138411 -1.865511  1.616323  1.098781 -0.763919 -0.434534   \n",
      "201 -0.605797 -1.789447 -1.865511 -0.511756  3.272880  3.385674 -0.018990   \n",
      "202 -1.064580  1.770175 -1.865511  1.957619  1.383484 -0.763919 -0.399319   \n",
      "203 -0.589294  1.708802 -1.865511  1.094342  0.594079 -0.763919 -0.476793   \n",
      "204 -0.724619  1.892920 -1.865511  1.656476  0.839960 -0.763919 -0.173939   \n",
      "205 -0.345051  1.892920 -1.865511  0.712893  0.438787 -0.763919 -0.244370   \n",
      "206 -0.632202  1.880646 -1.865511  0.853427  0.594079 -0.763919 -0.202111   \n",
      "207 -0.018292  1.205545 -1.865511  0.753046  0.270553  1.403091 -1.751599   \n",
      "208 -0.648705  1.180996 -1.865511  2.600058  0.257612 -0.763919  0.347252   \n",
      "209 -0.704815  0.898681 -1.865511  2.881125 -0.052974 -0.640968  0.157088   \n",
      "210 -0.500178  1.856097 -1.865511  1.094342  0.529374 -0.763919 -0.392276   \n",
      "211  0.754046  1.168721 -1.865511  1.154570  0.995252 -0.763919 -0.364103   \n",
      "212 -0.612399  1.193270 -1.865511  0.993960  1.241133 -0.763919 -0.335931   \n",
      "213 -0.414363  1.009152 -1.865511  1.275028  0.917606 -0.763919 -0.237327   \n",
      "\n",
      "           Ba        Fe  Class  \n",
      "0   -0.352877 -0.586451      1  \n",
      "1   -0.352877 -0.586451      1  \n",
      "2   -0.352877 -0.586451      1  \n",
      "3   -0.352877 -0.586451      1  \n",
      "4   -0.352877 -0.586451      1  \n",
      "5   -0.352877  2.088150      1  \n",
      "6   -0.352877 -0.586451      1  \n",
      "7   -0.352877 -0.586451      1  \n",
      "8   -0.352877 -0.586451      1  \n",
      "9   -0.352877  0.545111      1  \n",
      "10  -0.352877  1.882411      1  \n",
      "11  -0.352877 -0.586451      1  \n",
      "12  -0.352877  1.882411      1  \n",
      "13  -0.352877  1.162326      1  \n",
      "14  -0.352877 -0.586451      1  \n",
      "15  -0.352877 -0.586451      1  \n",
      "16  -0.352877 -0.586451      1  \n",
      "17  -0.352877 -0.586451      1  \n",
      "18  -0.352877 -0.586451      1  \n",
      "19  -0.352877  0.133634      1  \n",
      "20  -0.352877  1.368065      1  \n",
      "21  -0.352877 -0.586451      1  \n",
      "22  -0.352877 -0.586451      1  \n",
      "23  -0.352877 -0.586451      1  \n",
      "24  -0.352877 -0.586451      1  \n",
      "25  -0.352877 -0.586451      1  \n",
      "26  -0.352877 -0.586451      1  \n",
      "27  -0.352877 -0.586451      1  \n",
      "28  -0.352877 -0.586451      1  \n",
      "29  -0.352877 -0.586451      1  \n",
      "..        ...       ...    ...  \n",
      "184 -0.352877 -0.586451      6  \n",
      "185  2.046045 -0.586451      7  \n",
      "186  2.933041 -0.586451      7  \n",
      "187 -0.352877 -0.586451      7  \n",
      "188 -0.352877 -0.586451      7  \n",
      "189  3.033836 -0.586451      7  \n",
      "190  1.179208 -0.586451      7  \n",
      "191  0.937300  0.339372      7  \n",
      "192  0.453483  0.339372      7  \n",
      "193  2.852405  0.236503      7  \n",
      "194  2.812087  0.133634      7  \n",
      "195  0.876823 -0.072105      7  \n",
      "196  1.280003 -0.483582      7  \n",
      "197  0.977618 -0.586451      7  \n",
      "198  0.937300 -0.586451      7  \n",
      "199  0.715551 -0.586451      7  \n",
      "200  0.917141 -0.586451      7  \n",
      "201 -0.352877 -0.586451      7  \n",
      "202  0.776028 -0.586451      7  \n",
      "203  3.094313 -0.586451      7  \n",
      "204  0.997777 -0.586451      7  \n",
      "205  2.771769 -0.586451      7  \n",
      "206  2.429066 -0.586451      7  \n",
      "207  5.452917 -0.586451      7  \n",
      "208  0.735710 -0.586451      7  \n",
      "209  1.783978 -0.586451      7  \n",
      "210  2.852405 -0.586451      7  \n",
      "211  2.953200 -0.586451      7  \n",
      "212  2.812087 -0.586451      7  \n",
      "213  3.013677 -0.586451      7  \n",
      "\n",
      "[214 rows x 10 columns]\n"
     ]
    }
   ],
   "source": [
    "dz=pd.DataFrame({'RI':data1h[:,0],'Na':data1h[:,1],'Mg':data1h[:,2],'Al':data1h[:,3],'Si':data1h[:,4],'K':data1h[:,5],'Ca':data1h[:,6],'Ba':data1h[:,7],'Fe':data1h[:,8],'Class':df['Class']})\n",
    "print(dz)"
   ]
  },
  {
   "cell_type": "code",
   "execution_count": 6,
   "metadata": {},
   "outputs": [],
   "source": [
    "X=dz.iloc[:,0:9]\n",
    "y=dz['Class']\n",
    "X_train=[]\n",
    "X_test=[]\n",
    "y_train=[]\n",
    "y_test=[]\n",
    "from sklearn.model_selection import train_test_split\n",
    "X_train, X_test, y_train, y_test = train_test_split(X, y,test_size=0.3,random_state=5)\n",
    "X_train=X_train.reset_index()\n",
    "X_test=X_test.reset_index()\n",
    "y_train=y_train.reset_index()\n",
    "y_test=y_test.reset_index()\n",
    "z=X_train.count()\n",
    "del y_train['index']\n",
    "del X_train['index']\n",
    "del X_test['index']\n"
   ]
  },
  {
   "cell_type": "code",
   "execution_count": 12,
   "metadata": {},
   "outputs": [
    {
     "name": "stderr",
     "output_type": "stream",
     "text": [
      "/opt/anaconda3-u/lib/python3.6/site-packages/ipykernel_launcher.py:7: DataConversionWarning: A column-vector y was passed when a 1d array was expected. Please change the shape of y to (n_samples, ), for example using ravel().\n",
      "  import sys\n"
     ]
    }
   ],
   "source": [
    "acc=[]\n",
    "err=[]\n",
    "k1=[]\n",
    "for k in range(1,30):\n",
    "    \n",
    "    neigh = KNeighborsClassifier(n_neighbors=k)\n",
    "    neigh.fit(X_train,y_train)  \n",
    "    pred=neigh.predict(X_test)\n",
    "    true=y_test['Class']\n",
    "    acc.append(accuracy_score(true,pred))\n",
    "    err.append(1-(accuracy_score(true,pred)))\n",
    "    k1.append(k)"
   ]
  },
  {
   "cell_type": "code",
   "execution_count": 13,
   "metadata": {},
   "outputs": [
    {
     "name": "stdout",
     "output_type": "stream",
     "text": [
      "[0.8153846153846154, 0.7846153846153846, 0.6923076923076923, 0.7076923076923077, 0.7076923076923077, 0.6923076923076923, 0.6923076923076923, 0.676923076923077, 0.7076923076923077, 0.6615384615384615, 0.6461538461538462, 0.6615384615384615, 0.6923076923076923, 0.676923076923077, 0.676923076923077, 0.6307692307692307, 0.6615384615384615, 0.6307692307692307, 0.6153846153846154, 0.6307692307692307, 0.6153846153846154, 0.6307692307692307, 0.6307692307692307, 0.6153846153846154, 0.6307692307692307, 0.6153846153846154, 0.6, 0.6307692307692307, 0.6153846153846154]\n",
      "[0.18461538461538463, 0.2153846153846154, 0.3076923076923077, 0.29230769230769227, 0.29230769230769227, 0.3076923076923077, 0.3076923076923077, 0.32307692307692304, 0.29230769230769227, 0.3384615384615385, 0.3538461538461538, 0.3384615384615385, 0.3076923076923077, 0.32307692307692304, 0.32307692307692304, 0.36923076923076925, 0.3384615384615385, 0.36923076923076925, 0.3846153846153846, 0.36923076923076925, 0.3846153846153846, 0.36923076923076925, 0.36923076923076925, 0.3846153846153846, 0.36923076923076925, 0.3846153846153846, 0.4, 0.36923076923076925, 0.3846153846153846]\n",
      "[1, 2, 3, 4, 5, 6, 7, 8, 9, 10, 11, 12, 13, 14, 15, 16, 17, 18, 19, 20, 21, 22, 23, 24, 25, 26, 27, 28, 29]\n"
     ]
    }
   ],
   "source": [
    "print(acc)\n",
    "print(err)\n",
    "print(k1)"
   ]
  },
  {
   "cell_type": "code",
   "execution_count": 14,
   "metadata": {},
   "outputs": [
    {
     "data": {
      "image/png": "[encoded data removed]",
      "text/plain": [
       "<Figure size 432x288 with 1 Axes>"
      ]
     },
     "metadata": {},
     "output_type": "display_data"
    }
   ],
   "source": [
    "#import matplotlib.pyplot as plt\n",
    "plt.plot(k1,err)\n",
    "#plt.axis([0, 6, 0, 20])\n",
    "plt.show()"
   ]
  },
  {
   "cell_type": "code",
   "execution_count": null,
   "metadata": {},
   "outputs": [],
   "source": []
  },
  {
   "cell_type": "code",
   "execution_count": null,
   "metadata": {},
   "outputs": [],
   "source": []
  }
 ],
 "metadata": {
  "kernelspec": {
   "display_name": "Python 3",
   "language": "python",
   "name": "python3"
  },
  "language_info": {
   "codemirror_mode": {
    "name": "ipython",
    "version": 3
   },
   "file_extension": ".py",
   "mimetype": "text/x-python",
   "name": "python",
   "nbconvert_exporter": "python",
   "pygments_lexer": "ipython3",
   "version": "3.6.5"
  }
 },
 "nbformat": 4,
 "nbformat_minor": 2
}
